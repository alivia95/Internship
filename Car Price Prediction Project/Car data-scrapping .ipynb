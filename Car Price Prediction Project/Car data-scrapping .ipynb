{
 "cells": [
  {
   "cell_type": "code",
   "execution_count": 15,
   "id": "040beed4",
   "metadata": {},
   "outputs": [],
   "source": [
    "\n",
    "import selenium\n",
    "from selenium import webdriver\n",
    "import time\n",
    "import requests\n",
    "from bs4 import BeautifulSoup\n",
    "from selenium.common.exceptions import StaleElementReferenceException,NoSuchElementException\n",
    "from selenium.common.exceptions import NoSuchElementException\n",
    "import re\n",
    "import pandas as pd\n",
    "import numpy as np\n",
    "\n",
    "import warnings\n",
    "warnings.filterwarnings(\"ignore\",category=DeprecationWarning)\n",
    "\n"
   ]
  },
  {
   "cell_type": "code",
   "execution_count": 16,
   "id": "d66e320e",
   "metadata": {},
   "outputs": [],
   "source": [
    "#loading the chrome browser\n",
    "driver= webdriver.Chrome(r'C:/chromedriver_win32/chromedriver.exe')"
   ]
  },
  {
   "cell_type": "code",
   "execution_count": 17,
   "id": "d510e8f2",
   "metadata": {},
   "outputs": [],
   "source": [
    "driver.get('https://www.olx.in/cars_c84')\n"
   ]
  },
  {
   "cell_type": "code",
   "execution_count": 18,
   "id": "2883bfae",
   "metadata": {},
   "outputs": [],
   "source": [
    "urls = []"
   ]
  },
  {
   "cell_type": "code",
   "execution_count": 19,
   "id": "0f75597b",
   "metadata": {},
   "outputs": [],
   "source": [
    "for i in range(50):\n",
    "    for j in driver.find_elements_by_xpath('//li[@class=\"_31j8e\"]/a'):\n",
    "        urls.append(j.get_attribute('href'))\n",
    "    \n",
    "btn=driver.find_element_by_xpath('//li[@class=\"_3OF2S\"]/div')\n",
    "btn.click()"
   ]
  },
  {
   "cell_type": "code",
   "execution_count": 20,
   "id": "1971df04",
   "metadata": {},
   "outputs": [
    {
     "data": {
      "text/plain": [
       "2000"
      ]
     },
     "execution_count": 20,
     "metadata": {},
     "output_type": "execute_result"
    }
   ],
   "source": [
    "len(urls)"
   ]
  },
  {
   "cell_type": "code",
   "execution_count": 21,
   "id": "d49cdeea",
   "metadata": {},
   "outputs": [
    {
     "data": {
      "text/plain": [
       "'https://www.olx.in/item/maruti-suzuki-omni-8-seater-bsiv-2018-petrol-iid-1689106516'"
      ]
     },
     "execution_count": 21,
     "metadata": {},
     "output_type": "execute_result"
    }
   ],
   "source": [
    "urls[1]"
   ]
  },
  {
   "cell_type": "code",
   "execution_count": 22,
   "id": "730a715b",
   "metadata": {},
   "outputs": [],
   "source": [
    "brand =[]\n",
    "year =[]\n",
    "km=[]\n",
    "fuel=[]\n",
    "owners=[]\n",
    "price=[]\n"
   ]
  },
  {
   "cell_type": "code",
   "execution_count": 23,
   "id": "bb846f15",
   "metadata": {},
   "outputs": [],
   "source": [
    "for i in urls[:]:\n",
    "    driver.get(i)\n",
    "    time.sleep(1)\n",
    "    \n",
    "    try:\n",
    "        brand_tags=driver.find_element_by_xpath('//div[@data-aut-id=\"itemTitle\"]')\n",
    "        brand.append(brand_tags.text.split('\\n')[0][:-7])\n",
    "    except NoSuchElementException:\n",
    "        brand.append(\" \")\n",
    "      \n",
    "           \n",
    "    try:\n",
    "        year_tags=driver.find_element_by_xpath('//div[@data-aut-id=\"itemTitle\"]')\n",
    "        year.append(year_tags.text.split('\\n')[0][-5:-1])\n",
    "    except NoSuchElementException:\n",
    "        year.append(\" \")\n",
    "        \n",
    "        \n",
    "    try:\n",
    "        km_tags=driver.find_element_by_xpath('//div[@class=\"aOxkz\"]/div[2]/div')\n",
    "        km.append(km_tags.text.split('\\n')[0][:-3])\n",
    "    except NoSuchElementException:\n",
    "        km.append(\" \")\n",
    "        \n",
    "        \n",
    "    try:\n",
    "        fuel_tags=driver.find_element_by_xpath('//div[@class=\"aOxkz\"]/div[1]/div')\n",
    "        fuel.append(fuel_tags.text)\n",
    "    except NoSuchElementException:\n",
    "        fuel.append(\" \")\n",
    "        \n",
    "        \n",
    "    try:\n",
    "        owners_tags=driver.find_element_by_xpath('//div[@class=\"_1gasz\"]')\n",
    "        owners.append(owners_tags.text)\n",
    "    except NoSuchElementException:\n",
    "        owners.append(\" \")\n",
    "        \n",
    "        \n",
    "    try:\n",
    "        price_tags=driver.find_element_by_xpath('//div[@data-aut-id=\"itemPrice\"]')\n",
    "        price.append(price_tags.text.split('\\n')[0][2:].replace(',', ''))\n",
    "    except NoSuchElementException:\n",
    "        price.append(\" \")"
   ]
  },
  {
   "cell_type": "code",
   "execution_count": 30,
   "id": "d04dbbf9",
   "metadata": {},
   "outputs": [
    {
     "data": {
      "text/plain": [
       "(2000, 2000, 2000, 2000, 2000, 2000)"
      ]
     },
     "execution_count": 30,
     "metadata": {},
     "output_type": "execute_result"
    }
   ],
   "source": [
    "#finding out the lengths of all the columns\n",
    "len(brand),len(year),len(km),len(fuel),len(owners),len(price)"
   ]
  },
  {
   "cell_type": "code",
   "execution_count": 31,
   "id": "5a2c790d",
   "metadata": {},
   "outputs": [],
   "source": [
    "#creating the dataset\n",
    "df=pd.DataFrame({'Brand' : brand,'Year':year,'KMT':km,'Fuel':fuel,'Owners':owners,'Price':price})"
   ]
  },
  {
   "cell_type": "code",
   "execution_count": 32,
   "id": "e641e781",
   "metadata": {},
   "outputs": [
    {
     "data": {
      "text/html": [
       "<div>\n",
       "<style scoped>\n",
       "    .dataframe tbody tr th:only-of-type {\n",
       "        vertical-align: middle;\n",
       "    }\n",
       "\n",
       "    .dataframe tbody tr th {\n",
       "        vertical-align: top;\n",
       "    }\n",
       "\n",
       "    .dataframe thead th {\n",
       "        text-align: right;\n",
       "    }\n",
       "</style>\n",
       "<table border=\"1\" class=\"dataframe\">\n",
       "  <thead>\n",
       "    <tr style=\"text-align: right;\">\n",
       "      <th></th>\n",
       "      <th>Brand</th>\n",
       "      <th>Year</th>\n",
       "      <th>KMT</th>\n",
       "      <th>Fuel</th>\n",
       "      <th>Owners</th>\n",
       "      <th>Price</th>\n",
       "    </tr>\n",
       "  </thead>\n",
       "  <tbody>\n",
       "    <tr>\n",
       "      <th>0</th>\n",
       "      <td>Hyundai Elite I20</td>\n",
       "      <td>2019</td>\n",
       "      <td>73700.0</td>\n",
       "      <td>DIESEL</td>\n",
       "      <td>1st</td>\n",
       "      <td>800000</td>\n",
       "    </tr>\n",
       "    <tr>\n",
       "      <th>1</th>\n",
       "      <td>Maruti Suzuki Omni</td>\n",
       "      <td>2018</td>\n",
       "      <td>75350.0</td>\n",
       "      <td>PETROL</td>\n",
       "      <td>1st</td>\n",
       "      <td>365000</td>\n",
       "    </tr>\n",
       "    <tr>\n",
       "      <th>2</th>\n",
       "      <td>Bmw X3</td>\n",
       "      <td>2014</td>\n",
       "      <td>76654.0</td>\n",
       "      <td>DIESEL</td>\n",
       "      <td>2nd</td>\n",
       "      <td>1700000</td>\n",
       "    </tr>\n",
       "    <tr>\n",
       "      <th>3</th>\n",
       "      <td>Tata Safari</td>\n",
       "      <td>2004</td>\n",
       "      <td>160000</td>\n",
       "      <td>DIESEL</td>\n",
       "      <td>Second</td>\n",
       "      <td>90000</td>\n",
       "    </tr>\n",
       "    <tr>\n",
       "      <th>4</th>\n",
       "      <td>Mahindra Scorpio</td>\n",
       "      <td>2009</td>\n",
       "      <td>120000</td>\n",
       "      <td>DIESEL</td>\n",
       "      <td>Second</td>\n",
       "      <td>325000</td>\n",
       "    </tr>\n",
       "    <tr>\n",
       "      <th>...</th>\n",
       "      <td>...</td>\n",
       "      <td>...</td>\n",
       "      <td>...</td>\n",
       "      <td>...</td>\n",
       "      <td>...</td>\n",
       "      <td>...</td>\n",
       "    </tr>\n",
       "    <tr>\n",
       "      <th>1995</th>\n",
       "      <td>Tata Zest</td>\n",
       "      <td>2014</td>\n",
       "      <td>80499.0</td>\n",
       "      <td>PETROL</td>\n",
       "      <td>1st</td>\n",
       "      <td>399000</td>\n",
       "    </tr>\n",
       "    <tr>\n",
       "      <th>1996</th>\n",
       "      <td>Maruti Suzuki Celerio</td>\n",
       "      <td>2015</td>\n",
       "      <td>45791.0</td>\n",
       "      <td>PETROL</td>\n",
       "      <td>--</td>\n",
       "      <td>399000</td>\n",
       "    </tr>\n",
       "    <tr>\n",
       "      <th>1997</th>\n",
       "      <td>Honda Amaze</td>\n",
       "      <td>2016</td>\n",
       "      <td>61,200</td>\n",
       "      <td>CNG &amp; HYBRIDS</td>\n",
       "      <td>1st</td>\n",
       "      <td>385000</td>\n",
       "    </tr>\n",
       "    <tr>\n",
       "      <th>1998</th>\n",
       "      <td>Maruti Suzuki Ertiga</td>\n",
       "      <td>2014</td>\n",
       "      <td>990,000</td>\n",
       "      <td>DIESEL</td>\n",
       "      <td>3rd</td>\n",
       "      <td>550000</td>\n",
       "    </tr>\n",
       "    <tr>\n",
       "      <th>1999</th>\n",
       "      <td>Hyundai Grand I10</td>\n",
       "      <td>2015</td>\n",
       "      <td>40000.0</td>\n",
       "      <td>PETROL</td>\n",
       "      <td>1st</td>\n",
       "      <td>430000</td>\n",
       "    </tr>\n",
       "  </tbody>\n",
       "</table>\n",
       "<p>2000 rows × 6 columns</p>\n",
       "</div>"
      ],
      "text/plain": [
       "                      Brand  Year      KMT           Fuel  Owners    Price\n",
       "0         Hyundai Elite I20  2019  73700.0         DIESEL     1st   800000\n",
       "1        Maruti Suzuki Omni  2018  75350.0         PETROL     1st   365000\n",
       "2                    Bmw X3  2014  76654.0         DIESEL     2nd  1700000\n",
       "3               Tata Safari  2004   160000         DIESEL  Second    90000\n",
       "4          Mahindra Scorpio  2009   120000         DIESEL  Second   325000\n",
       "...                     ...   ...      ...            ...     ...      ...\n",
       "1995              Tata Zest  2014  80499.0         PETROL     1st   399000\n",
       "1996  Maruti Suzuki Celerio  2015  45791.0         PETROL      --   399000\n",
       "1997            Honda Amaze  2016   61,200  CNG & HYBRIDS     1st   385000\n",
       "1998   Maruti Suzuki Ertiga  2014  990,000         DIESEL     3rd   550000\n",
       "1999      Hyundai Grand I10  2015  40000.0         PETROL     1st   430000\n",
       "\n",
       "[2000 rows x 6 columns]"
      ]
     },
     "execution_count": 32,
     "metadata": {},
     "output_type": "execute_result"
    }
   ],
   "source": [
    "df"
   ]
  },
  {
   "cell_type": "code",
   "execution_count": 34,
   "id": "f61ecd36",
   "metadata": {},
   "outputs": [],
   "source": [
    "#saving it to a csv file\n",
    "df.to_csv('olx_car_data', index=False)"
   ]
  },
  {
   "cell_type": "code",
   "execution_count": null,
   "id": "803b94f2",
   "metadata": {},
   "outputs": [],
   "source": []
  }
 ],
 "metadata": {
  "kernelspec": {
   "display_name": "Python 3 (ipykernel)",
   "language": "python",
   "name": "python3"
  },
  "language_info": {
   "codemirror_mode": {
    "name": "ipython",
    "version": 3
   },
   "file_extension": ".py",
   "mimetype": "text/x-python",
   "name": "python",
   "nbconvert_exporter": "python",
   "pygments_lexer": "ipython3",
   "version": "3.9.7"
  }
 },
 "nbformat": 4,
 "nbformat_minor": 5
}
