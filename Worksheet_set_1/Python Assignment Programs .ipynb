{
 "cells": [
  {
   "cell_type": "markdown",
   "id": "77b56744",
   "metadata": {},
   "source": [
    "# To find the factorial of a number.\n"
   ]
  },
  {
   "cell_type": "code",
   "execution_count": 1,
   "id": "57a598c5",
   "metadata": {},
   "outputs": [
    {
     "name": "stdout",
     "output_type": "stream",
     "text": [
      "Enter any number :4\n"
     ]
    }
   ],
   "source": [
    "num = int(input(\"Enter any number :\"))\n",
    "fact = 1"
   ]
  },
  {
   "cell_type": "code",
   "execution_count": 2,
   "id": "7a5e4bf2",
   "metadata": {},
   "outputs": [],
   "source": [
    "for i in range(1, num +1):\n",
    "    fact = fact*i"
   ]
  },
  {
   "cell_type": "code",
   "execution_count": 3,
   "id": "74e9351d",
   "metadata": {},
   "outputs": [
    {
     "name": "stdout",
     "output_type": "stream",
     "text": [
      "The factorial of 4 = 24\n"
     ]
    }
   ],
   "source": [
    "print(\"The factorial of %d = %d\" %(num,fact))"
   ]
  },
  {
   "cell_type": "markdown",
   "id": "92a9350d",
   "metadata": {},
   "source": [
    "# To find whether a number is prime or composite.\n"
   ]
  },
  {
   "cell_type": "code",
   "execution_count": 6,
   "id": "378a6c96",
   "metadata": {},
   "outputs": [
    {
     "name": "stdout",
     "output_type": "stream",
     "text": [
      "Enter any number : 567\n",
      "567 is NOT a prime number\n"
     ]
    }
   ],
   "source": [
    "num = int(input(\"Enter any number : \"))\n",
    "if num > 1:\n",
    "    for i in range(2, num):\n",
    "        if (num % i) == 0:\n",
    "            print(num, \"is NOT a prime number\")\n",
    "            break\n",
    "            \n",
    "    else:\n",
    "        print(num, \"is a PRIME number\")\n",
    "elif num == 0 or 1:\n",
    "    print(num, \"is a neither prime NOR composite number\")\n",
    "else:\n",
    "    print(num, \"is NOT a prime number it is a COMPOSITE number\")\n",
    "            \n",
    "    "
   ]
  },
  {
   "cell_type": "markdown",
   "id": "dce1488c",
   "metadata": {},
   "source": [
    "# To check whether a given string is palindrome or not."
   ]
  },
  {
   "cell_type": "code",
   "execution_count": 12,
   "id": "b352531c",
   "metadata": {},
   "outputs": [
    {
     "name": "stdout",
     "output_type": "stream",
     "text": [
      "Please enter your own text : MOM\n",
      "This is a Palindrome String\n"
     ]
    }
   ],
   "source": [
    "s = input(\"Please enter your own text : \")\n",
    "if(s == s[:: - 1]):\n",
    "    print(\"This is a Palindrome String\")\n",
    "else:\n",
    "    print(\"This is Not\")\n",
    "\n"
   ]
  },
  {
   "cell_type": "markdown",
   "id": "df3d1962",
   "metadata": {},
   "source": [
    "# To get the third side of right-angled triangle from two given sides."
   ]
  },
  {
   "cell_type": "code",
   "execution_count": 23,
   "id": "4f183189",
   "metadata": {},
   "outputs": [],
   "source": [
    "def pythagoras(opposite_side,adjacent_side,hypotenuse):\n",
    "    if opposite_side == str(\"x\"):\n",
    "        return (\"Opposite = \" + str(((hypotenuse**2) - (adjacent_side**2))**0.5))\n",
    "    elif adjacent_side == str(\"x\"):\n",
    "        return (\"Adjacent = \" + str(((hypotenuse**2) - (opposite_side**2))**0.5))\n",
    "    elif hypotenuse == str(\"x\"):\n",
    "        return (\"Hypotenuse = \" + str(((opposite_side**2) + (adjacent_side**2))**0.5))\n",
    "    else:\n",
    "        return(\"The answer is right here\")\n",
    "    "
   ]
  },
  {
   "cell_type": "code",
   "execution_count": 24,
   "id": "9d798318",
   "metadata": {},
   "outputs": [
    {
     "name": "stdout",
     "output_type": "stream",
     "text": [
      "Hypotenuse = 5.0\n",
      "Adjacent = 4.0\n",
      "Opposite = 3.0\n",
      "The answer is right here\n"
     ]
    }
   ],
   "source": [
    "print(pythagoras(3,4,'x'))\n",
    "print(pythagoras(3,'x',5))\n",
    "print(pythagoras('x',4,5))\n",
    "print(pythagoras(3,4,5))"
   ]
  },
  {
   "cell_type": "markdown",
   "id": "761fa127",
   "metadata": {},
   "source": [
    "##### "
   ]
  },
  {
   "cell_type": "markdown",
   "id": "ff965499",
   "metadata": {},
   "source": [
    "# To print the frequency of each of the characters present in a given string."
   ]
  },
  {
   "cell_type": "code",
   "execution_count": 26,
   "id": "1476afaa",
   "metadata": {},
   "outputs": [
    {
     "name": "stdout",
     "output_type": "stream",
     "text": [
      "Given String:  marketplace\n",
      "Frequency of each character :\n",
      "  {'m': 1, 'a': 2, 'r': 1, 'k': 1, 'e': 2, 't': 1, 'p': 1, 'l': 1, 'c': 1}\n"
     ]
    }
   ],
   "source": [
    "strB = \"marketplace\"\n",
    "print(\"Given String: \",strB)\n",
    "res = {}\n",
    "for keys in strB:\n",
    "    res[keys] = res.get(keys, 0) + 1\n",
    "print(\"Frequency of each character :\\n \",res)\n",
    "    \n"
   ]
  },
  {
   "cell_type": "code",
   "execution_count": null,
   "id": "838c5c4b",
   "metadata": {},
   "outputs": [],
   "source": []
  }
 ],
 "metadata": {
  "kernelspec": {
   "display_name": "Python 3 (ipykernel)",
   "language": "python",
   "name": "python3"
  },
  "language_info": {
   "codemirror_mode": {
    "name": "ipython",
    "version": 3
   },
   "file_extension": ".py",
   "mimetype": "text/x-python",
   "name": "python",
   "nbconvert_exporter": "python",
   "pygments_lexer": "ipython3",
   "version": "3.9.7"
  }
 },
 "nbformat": 4,
 "nbformat_minor": 5
}
